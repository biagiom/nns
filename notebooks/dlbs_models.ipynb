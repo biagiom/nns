{
 "cells": [
  {
   "cell_type": "markdown",
   "metadata": {},
   "source": [
    "# Summary of models from Deep Learning Benchmarking Suite\n",
    "Full list of models is [here](https://hewlettpackard.github.io/dlcookbook-dlbs/#/models/models?id=models). The FLOPs estimations in tables below are gFLOPs for forward pass. To compute backward pass gFLOPs, multiply forward pass gFLOPs by 2, training gFLOPs is forward pass gFLOPs times 3:  \n",
    "`gFLOPS(backward) = 2 * gFLOPs(forward)`  \n",
    "`gFLOPS(training) = 3 * gFLOPs(forward)`  \n",
    "\n",
    "**Models**\n",
    "1.  [English acoustic model](#English-acoustic-model)\n",
    "2.  [AlexNet](#AlexNet)\n",
    "3.  [AlexNet OWT](#AlexNetOWT)\n",
    "4.  [Deep MNIST](#DeepMNIST)\n",
    "5.  [VGG-11](#VGG11)\n",
    "6.  [VGG-13](#VGG13)\n",
    "7.  [VGG-16](#VGG16)\n",
    "8.  [VGG-19](#VGG19)\n",
    "9.  [Overfeat](#Overfeat)\n",
    "10. [ResNet-18](#ResNet18)\n",
    "11. [ResNet-34](#ResNet34)\n",
    "12. [ResNet-50](#ResNet50)\n",
    "13. [ResNet-101](#ResNet101)\n",
    "14. [ResNet-152](#ResNet152)\n",
    "15. [ResNet-200](#ResNet200)\n",
    "16. [ResNet-269](#ResNet269)"
   ]
  },
  {
   "cell_type": "code",
   "execution_count": 1,
   "metadata": {},
   "outputs": [],
   "source": [
    "import os, sys\n",
    "sys.path.insert(0, os.path.join(os.path.dirname(os.path.abspath('')), 'python'))\n",
    "from nns.nns import ModelSummary\n",
    "from nns import dlbs_models as models"
   ]
  },
  {
   "cell_type": "markdown",
   "metadata": {},
   "source": [
    "### [English acoustic model](http://ethereon.github.io/netscope/#/gist/10f5dee56b6f7bbb5da26749bd37ae16)"
   ]
  },
  {
   "cell_type": "code",
   "execution_count": 2,
   "metadata": {},
   "outputs": [
    {
     "name": "stdout",
     "output_type": "stream",
     "text": [
      "EnglishAcousticModel\n",
      "     name    gflops   nparams   params_mb\n",
      "0  dense1  0.001106   1107968    4.226562\n",
      "1  dense2  0.004194   4196352   16.007812\n",
      "2  dense3  0.004194   4196352   16.007812\n",
      "3  dense4  0.004194   4196352   16.007812\n",
      "4  dense5  0.004194   4196352   16.007812\n",
      "5  dense6  0.016777  16785408   64.031250\n",
      "6   TOTAL  0.034660  34678784  132.289062\n"
     ]
    }
   ],
   "source": [
    "ModelSummary(models.EnglishAcousticModel().create()).summary()"
   ]
  },
  {
   "cell_type": "markdown",
   "metadata": {},
   "source": [
    "### [AlexNet](http://ethereon.github.io/netscope/#/gist/5c94a074f4e4ac4b81ee28a796e04b5d)"
   ]
  },
  {
   "cell_type": "code",
   "execution_count": 4,
   "metadata": {},
   "outputs": [
    {
     "name": "stdout",
     "output_type": "stream",
     "text": [
      "AlexNet\n",
      "    name    gflops   nparams   params_mb\n",
      "0  conv1  0.105415     34944    0.133301\n",
      "1  conv2  0.447898    614656    2.344727\n",
      "2  conv3  0.149520    885120    3.376465\n",
      "3  conv4  0.224281   1327488    5.063965\n",
      "4  conv5  0.149520    884992    3.375977\n",
      "5    fc6  0.037749  37752832  144.015625\n",
      "6    fc7  0.016777  16781312   64.015625\n",
      "7    fc8  0.004096   4097000   15.628815\n",
      "8  TOTAL  1.135256  62378344  237.954498\n"
     ]
    }
   ],
   "source": [
    "ModelSummary(models.AlexNet().create()).summary()"
   ]
  },
  {
   "cell_type": "markdown",
   "metadata": {},
   "source": [
    "### [AlexNetOWT](http://ethereon.github.io/netscope/#/gist/dc85cc15d59d720c8a18c4776abc9fd5)"
   ]
  },
  {
   "cell_type": "code",
   "execution_count": 5,
   "metadata": {},
   "outputs": [
    {
     "name": "stdout",
     "output_type": "stream",
     "text": [
      "AlexNetOWT\n",
      "    name    gflops   nparams   params_mb\n",
      "0  conv1  0.070277     23296    0.088867\n",
      "1  conv2  0.223949    307392    1.172607\n",
      "2  conv3  0.112140    663936    2.532715\n",
      "3  conv4  0.149520    884992    3.375977\n",
      "4  conv5  0.099680    590080    2.250977\n",
      "5    fc6  0.037749  37752832  144.015625\n",
      "6    fc7  0.016777  16781312   64.015625\n",
      "7    fc8  0.004096   4097000   15.628815\n",
      "8  TOTAL  0.714188  61100840  233.081207\n"
     ]
    }
   ],
   "source": [
    "ModelSummary(models.AlexNet(version='owt').create()).summary()"
   ]
  },
  {
   "cell_type": "markdown",
   "metadata": {},
   "source": [
    "### [DeepMNIST](http://ethereon.github.io/netscope/#/gist/9c75cd95891207082bd42264eb7a2706)"
   ]
  },
  {
   "cell_type": "code",
   "execution_count": 6,
   "metadata": {},
   "outputs": [
    {
     "name": "stdout",
     "output_type": "stream",
     "text": [
      "DeepMNIST\n",
      "     name    gflops   nparams  params_mb\n",
      "0  dense1  0.001960   1962500   7.486343\n",
      "1  dense2  0.005000   5002000  19.081116\n",
      "2  dense3  0.003000   3001500  11.449814\n",
      "3  dense4  0.001500   1501000   5.725861\n",
      "4  dense5  0.000500    500500   1.909256\n",
      "5  dense6  0.000005      5010   0.019112\n",
      "6   TOTAL  0.011965  11972510  45.671501\n"
     ]
    }
   ],
   "source": [
    "ModelSummary(models.DeepMNIST().create()).summary()"
   ]
  },
  {
   "cell_type": "markdown",
   "metadata": {},
   "source": [
    "### [VGG11](http://ethereon.github.io/netscope/#/gist/5550b93fb51ab63d520af5be555d691f)"
   ]
  },
  {
   "cell_type": "code",
   "execution_count": 7,
   "metadata": {},
   "outputs": [
    {
     "name": "stdout",
     "output_type": "stream",
     "text": [
      "VGG11\n",
      "       name    gflops    nparams   params_mb\n",
      "0   conv1_1  0.086704       1792    0.006836\n",
      "1   conv2_1  0.924844      73856    0.281738\n",
      "2   conv3_1  0.924844     295168    1.125977\n",
      "3   conv3_2  1.849688     590080    2.250977\n",
      "4   conv4_1  0.924844    1180160    4.501953\n",
      "5   conv4_2  1.849688    2359808    9.001953\n",
      "6   conv5_1  0.462422    2359808    9.001953\n",
      "7   conv5_2  0.462422    2359808    9.001953\n",
      "8       fc6  0.102760  102764544  392.015625\n",
      "9       fc7  0.016777   16781312   64.015625\n",
      "10      fc8  0.004096    4097000   15.628815\n",
      "11    TOTAL  7.609090  132863336  506.833405\n"
     ]
    }
   ],
   "source": [
    "ModelSummary(models.VGG(version='vgg11').create()).summary()"
   ]
  },
  {
   "cell_type": "markdown",
   "metadata": {},
   "source": [
    "### [VGG13](http://ethereon.github.io/netscope/#/gist/a96ba317064a61b22a1742bd05c54816)"
   ]
  },
  {
   "cell_type": "code",
   "execution_count": 2,
   "metadata": {},
   "outputs": [
    {
     "name": "stdout",
     "output_type": "stream",
     "text": [
      "VGG13\n",
      "       name     gflops    nparams   params_mb\n",
      "0   conv1_1   0.086704       1792    0.006836\n",
      "1   conv1_2   1.849688      36928    0.140869\n",
      "2   conv2_1   0.924844      73856    0.281738\n",
      "3   conv2_2   1.849688     147584    0.562988\n",
      "4   conv3_1   0.924844     295168    1.125977\n",
      "5   conv3_2   1.849688     590080    2.250977\n",
      "6   conv4_1   0.924844    1180160    4.501953\n",
      "7   conv4_2   1.849688    2359808    9.001953\n",
      "8   conv5_1   0.462422    2359808    9.001953\n",
      "9   conv5_2   0.462422    2359808    9.001953\n",
      "10      fc6   0.102760  102764544  392.015625\n",
      "11      fc7   0.016777   16781312   64.015625\n",
      "12      fc8   0.004096    4097000   15.628815\n",
      "13    TOTAL  11.308466  133047848  507.537262\n"
     ]
    }
   ],
   "source": [
    "ModelSummary(models.VGG(version='vgg13').create()).summary()"
   ]
  },
  {
   "cell_type": "markdown",
   "metadata": {},
   "source": [
    "### [VGG16](http://ethereon.github.io/netscope/#/gist/050efcbb3f041bfc2a392381d0aac671)"
   ]
  },
  {
   "cell_type": "code",
   "execution_count": 9,
   "metadata": {},
   "outputs": [
    {
     "name": "stdout",
     "output_type": "stream",
     "text": [
      "VGG16\n",
      "       name     gflops    nparams   params_mb\n",
      "0   conv1_1   0.086704       1792    0.006836\n",
      "1   conv1_2   1.849688      36928    0.140869\n",
      "2   conv2_1   0.924844      73856    0.281738\n",
      "3   conv2_2   1.849688     147584    0.562988\n",
      "4   conv3_1   0.924844     295168    1.125977\n",
      "5   conv3_2   1.849688     590080    2.250977\n",
      "6   conv3_3   1.849688     590080    2.250977\n",
      "7   conv4_1   0.924844    1180160    4.501953\n",
      "8   conv4_2   1.849688    2359808    9.001953\n",
      "9   conv4_3   1.849688    2359808    9.001953\n",
      "10  conv5_1   0.462422    2359808    9.001953\n",
      "11  conv5_2   0.462422    2359808    9.001953\n",
      "12  conv5_3   0.462422    2359808    9.001953\n",
      "13      fc6   0.102760  102764544  392.015625\n",
      "14      fc7   0.016777   16781312   64.015625\n",
      "15      fc8   0.004096    4097000   15.628815\n",
      "16    TOTAL  15.470264  138357544  527.792145\n"
     ]
    }
   ],
   "source": [
    "ModelSummary(models.VGG(version='vgg16').create()).summary()"
   ]
  },
  {
   "cell_type": "markdown",
   "metadata": {},
   "source": [
    "### [VGG19](http://ethereon.github.io/netscope/#/gist/f9e55d5947ac0043973b32b7ff51b778)"
   ]
  },
  {
   "cell_type": "code",
   "execution_count": 10,
   "metadata": {},
   "outputs": [
    {
     "name": "stdout",
     "output_type": "stream",
     "text": [
      "VGG19\n",
      "       name     gflops    nparams   params_mb\n",
      "0   conv1_1   0.086704       1792    0.006836\n",
      "1   conv1_2   1.849688      36928    0.140869\n",
      "2   conv2_1   0.924844      73856    0.281738\n",
      "3   conv2_2   1.849688     147584    0.562988\n",
      "4   conv3_1   0.924844     295168    1.125977\n",
      "5   conv3_2   1.849688     590080    2.250977\n",
      "6   conv3_3   1.849688     590080    2.250977\n",
      "7   conv3_4   1.849688     590080    2.250977\n",
      "8   conv4_1   0.924844    1180160    4.501953\n",
      "9   conv4_2   1.849688    2359808    9.001953\n",
      "10  conv4_3   1.849688    2359808    9.001953\n",
      "11  conv4_4   1.849688    2359808    9.001953\n",
      "12  conv5_1   0.462422    2359808    9.001953\n",
      "13  conv5_2   0.462422    2359808    9.001953\n",
      "14  conv5_3   0.462422    2359808    9.001953\n",
      "15  conv5_4   0.462422    2359808    9.001953\n",
      "16      fc6   0.102760  102764544  392.015625\n",
      "17      fc7   0.016777   16781312   64.015625\n",
      "18      fc8   0.004096    4097000   15.628815\n",
      "19    TOTAL  19.632062  143667240  548.047028\n"
     ]
    }
   ],
   "source": [
    "ModelSummary(models.VGG(version='vgg19').create()).summary()"
   ]
  },
  {
   "cell_type": "markdown",
   "metadata": {},
   "source": [
    "### [Overfeat](http://ethereon.github.io/netscope/#/gist/ebfeff824393bcd66a9ceb851d8e5bde)"
   ]
  },
  {
   "cell_type": "code",
   "execution_count": 11,
   "metadata": {
    "scrolled": false
   },
   "outputs": [
    {
     "name": "stdout",
     "output_type": "stream",
     "text": [
      "Overfeat\n",
      "    name    gflops    nparams   params_mb\n",
      "0  conv1  0.109283      34944    0.133301\n",
      "1  conv2  0.353894     614656    2.344727\n",
      "2  conv3  0.169869    1180160    4.501953\n",
      "3  conv4  0.679477    4719616   18.003906\n",
      "4  conv5  1.358954    9438208   36.003906\n",
      "5    fc6  0.113246  113249280  432.011719\n",
      "6    fc7  0.012583   12587008   48.015625\n",
      "7    fc8  0.004096    4097000   15.628815\n",
      "8  TOTAL  2.801404  145920872  556.643951\n"
     ]
    }
   ],
   "source": [
    "ModelSummary(models.Overfeat().create()).summary()"
   ]
  },
  {
   "cell_type": "markdown",
   "metadata": {},
   "source": [
    "### [ResNet18](http://ethereon.github.io/netscope/#/gist/649e0fb6c96c60c9f0abaa339da3cd27)"
   ]
  },
  {
   "cell_type": "code",
   "execution_count": 13,
   "metadata": {
    "scrolled": false
   },
   "outputs": [
    {
     "name": "stdout",
     "output_type": "stream",
     "text": [
      "ResNet18\n",
      "                    name    gflops   nparams  params_mb\n",
      "0             conv1/conv  0.118014      9408   0.035889\n",
      "1    res1a/branch2a/conv  0.115606     36864   0.140625\n",
      "2     res1a/branch1/conv  0.012845      4096   0.015625\n",
      "3    res1a/branch2b/conv  0.115606     36864   0.140625\n",
      "4   res1b1/branch2a/conv  0.115606     36864   0.140625\n",
      "5   res1b1/branch2b/conv  0.115606     36864   0.140625\n",
      "6    res2a/branch2a/conv  0.057803     73728   0.281250\n",
      "7     res2a/branch1/conv  0.006423      8192   0.031250\n",
      "8    res2a/branch2b/conv  0.115606    147456   0.562500\n",
      "9   res2b1/branch2a/conv  0.115606    147456   0.562500\n",
      "10  res2b1/branch2b/conv  0.115606    147456   0.562500\n",
      "11   res3a/branch2a/conv  0.057803    294912   1.125000\n",
      "12    res3a/branch1/conv  0.006423     32768   0.125000\n",
      "13   res3a/branch2b/conv  0.115606    589824   2.250000\n",
      "14  res3b1/branch2a/conv  0.115606    589824   2.250000\n",
      "15  res3b1/branch2b/conv  0.115606    589824   2.250000\n",
      "16   res4a/branch2a/conv  0.057803   1179648   4.500000\n",
      "17    res4a/branch1/conv  0.006423    131072   0.500000\n",
      "18   res4a/branch2b/conv  0.115606   2359296   9.000000\n",
      "19  res4b1/branch2a/conv  0.115606   2359296   9.000000\n",
      "20  res4b1/branch2b/conv  0.115606   2359296   9.000000\n",
      "21                output  0.000512    513000   1.956940\n",
      "22                 TOTAL  1.826918  11698600  44.570953\n"
     ]
    }
   ],
   "source": [
    "ModelSummary(models.ResNet(version='resnet18').create()).summary()"
   ]
  },
  {
   "cell_type": "markdown",
   "metadata": {},
   "source": [
    "### [ResNet34](http://ethereon.github.io/netscope/#/gist/277a9604370076d8eed03e9e44e23d53)"
   ]
  },
  {
   "cell_type": "code",
   "execution_count": 14,
   "metadata": {},
   "outputs": [
    {
     "name": "stdout",
     "output_type": "stream",
     "text": [
      "ResNet34\n",
      "                    name    gflops   nparams  params_mb\n",
      "0             conv1/conv  0.118014      9408   0.035889\n",
      "1    res1a/branch2a/conv  0.115606     36864   0.140625\n",
      "2     res1a/branch1/conv  0.012845      4096   0.015625\n",
      "3    res1a/branch2b/conv  0.115606     36864   0.140625\n",
      "4   res1b1/branch2a/conv  0.115606     36864   0.140625\n",
      "5   res1b1/branch2b/conv  0.115606     36864   0.140625\n",
      "6   res1b2/branch2a/conv  0.115606     36864   0.140625\n",
      "7   res1b2/branch2b/conv  0.115606     36864   0.140625\n",
      "8    res2a/branch2a/conv  0.057803     73728   0.281250\n",
      "9     res2a/branch1/conv  0.006423      8192   0.031250\n",
      "10   res2a/branch2b/conv  0.115606    147456   0.562500\n",
      "11  res2b1/branch2a/conv  0.115606    147456   0.562500\n",
      "12  res2b1/branch2b/conv  0.115606    147456   0.562500\n",
      "13  res2b2/branch2a/conv  0.115606    147456   0.562500\n",
      "14  res2b2/branch2b/conv  0.115606    147456   0.562500\n",
      "15  res2b3/branch2a/conv  0.115606    147456   0.562500\n",
      "16  res2b3/branch2b/conv  0.115606    147456   0.562500\n",
      "17   res3a/branch2a/conv  0.057803    294912   1.125000\n",
      "18    res3a/branch1/conv  0.006423     32768   0.125000\n",
      "19   res3a/branch2b/conv  0.115606    589824   2.250000\n",
      "20  res3b1/branch2a/conv  0.115606    589824   2.250000\n",
      "21  res3b1/branch2b/conv  0.115606    589824   2.250000\n",
      "22  res3b2/branch2a/conv  0.115606    589824   2.250000\n",
      "23  res3b2/branch2b/conv  0.115606    589824   2.250000\n",
      "24  res3b3/branch2a/conv  0.115606    589824   2.250000\n",
      "25  res3b3/branch2b/conv  0.115606    589824   2.250000\n",
      "26  res3b4/branch2a/conv  0.115606    589824   2.250000\n",
      "27  res3b4/branch2b/conv  0.115606    589824   2.250000\n",
      "28  res3b5/branch2a/conv  0.115606    589824   2.250000\n",
      "29  res3b5/branch2b/conv  0.115606    589824   2.250000\n",
      "30   res4a/branch2a/conv  0.057803   1179648   4.500000\n",
      "31    res4a/branch1/conv  0.006423    131072   0.500000\n",
      "32   res4a/branch2b/conv  0.115606   2359296   9.000000\n",
      "33  res4b1/branch2a/conv  0.115606   2359296   9.000000\n",
      "34  res4b1/branch2b/conv  0.115606   2359296   9.000000\n",
      "35  res4b2/branch2a/conv  0.115606   2359296   9.000000\n",
      "36  res4b2/branch2b/conv  0.115606   2359296   9.000000\n",
      "37                output  0.000512    513000   1.956940\n",
      "38                 TOTAL  3.676606  21810472  83.102203\n"
     ]
    }
   ],
   "source": [
    "ModelSummary(models.ResNet(version='resnet34').create()).summary()"
   ]
  },
  {
   "cell_type": "markdown",
   "metadata": {},
   "source": [
    "### [ResNet50](http://ethereon.github.io/netscope/#/gist/db945b393d40bfa26006)"
   ]
  },
  {
   "cell_type": "code",
   "execution_count": 15,
   "metadata": {},
   "outputs": [
    {
     "name": "stdout",
     "output_type": "stream",
     "text": [
      "ResNet50\n",
      "                    name    gflops   nparams  params_mb\n",
      "0             conv1/conv  0.118014      9408   0.035889\n",
      "1    res1a/branch2a/conv  0.012845      4096   0.015625\n",
      "2    res1a/branch2b/conv  0.115606     36864   0.140625\n",
      "3     res1a/branch1/conv  0.051380     16384   0.062500\n",
      "4    res1a/branch2c/conv  0.051380     16384   0.062500\n",
      "5   res1b1/branch2a/conv  0.051380     16384   0.062500\n",
      "6   res1b1/branch2b/conv  0.115606     36864   0.140625\n",
      "7   res1b1/branch2c/conv  0.051380     16384   0.062500\n",
      "8   res1b2/branch2a/conv  0.051380     16384   0.062500\n",
      "9   res1b2/branch2b/conv  0.115606     36864   0.140625\n",
      "10  res1b2/branch2c/conv  0.051380     16384   0.062500\n",
      "11   res2a/branch2a/conv  0.102760     32768   0.125000\n",
      "12   res2a/branch2b/conv  0.115606    147456   0.562500\n",
      "13    res2a/branch1/conv  0.102760    131072   0.500000\n",
      "14   res2a/branch2c/conv  0.051380     65536   0.250000\n",
      "15  res2b1/branch2a/conv  0.051380     65536   0.250000\n",
      "16  res2b1/branch2b/conv  0.115606    147456   0.562500\n",
      "17  res2b1/branch2c/conv  0.051380     65536   0.250000\n",
      "18  res2b2/branch2a/conv  0.051380     65536   0.250000\n",
      "19  res2b2/branch2b/conv  0.115606    147456   0.562500\n",
      "20  res2b2/branch2c/conv  0.051380     65536   0.250000\n",
      "21  res2b3/branch2a/conv  0.051380     65536   0.250000\n",
      "22  res2b3/branch2b/conv  0.115606    147456   0.562500\n",
      "23  res2b3/branch2c/conv  0.051380     65536   0.250000\n",
      "24   res3a/branch2a/conv  0.102760    131072   0.500000\n",
      "25   res3a/branch2b/conv  0.115606    589824   2.250000\n",
      "26    res3a/branch1/conv  0.102760    524288   2.000000\n",
      "27   res3a/branch2c/conv  0.051380    262144   1.000000\n",
      "28  res3b1/branch2a/conv  0.051380    262144   1.000000\n",
      "29  res3b1/branch2b/conv  0.115606    589824   2.250000\n",
      "30  res3b1/branch2c/conv  0.051380    262144   1.000000\n",
      "31  res3b2/branch2a/conv  0.051380    262144   1.000000\n",
      "32  res3b2/branch2b/conv  0.115606    589824   2.250000\n",
      "33  res3b2/branch2c/conv  0.051380    262144   1.000000\n",
      "34  res3b3/branch2a/conv  0.051380    262144   1.000000\n",
      "35  res3b3/branch2b/conv  0.115606    589824   2.250000\n",
      "36  res3b3/branch2c/conv  0.051380    262144   1.000000\n",
      "37  res3b4/branch2a/conv  0.051380    262144   1.000000\n",
      "38  res3b4/branch2b/conv  0.115606    589824   2.250000\n",
      "39  res3b4/branch2c/conv  0.051380    262144   1.000000\n",
      "40  res3b5/branch2a/conv  0.051380    262144   1.000000\n",
      "41  res3b5/branch2b/conv  0.115606    589824   2.250000\n",
      "42  res3b5/branch2c/conv  0.051380    262144   1.000000\n",
      "43   res4a/branch2a/conv  0.102760    524288   2.000000\n",
      "44   res4a/branch2b/conv  0.115606   2359296   9.000000\n",
      "45    res4a/branch1/conv  0.102760   2097152   8.000000\n",
      "46   res4a/branch2c/conv  0.051380   1048576   4.000000\n",
      "47  res4b1/branch2a/conv  0.051380   1048576   4.000000\n",
      "48  res4b1/branch2b/conv  0.115606   2359296   9.000000\n",
      "49  res4b1/branch2c/conv  0.051380   1048576   4.000000\n",
      "50  res4b2/branch2a/conv  0.051380   1048576   4.000000\n",
      "51  res4b2/branch2b/conv  0.115606   2359296   9.000000\n",
      "52  res4b2/branch2c/conv  0.051380   1048576   4.000000\n",
      "53                output  0.002048   2049000   7.816315\n",
      "54                 TOTAL  4.089184  25583592  97.289703\n"
     ]
    }
   ],
   "source": [
    "ModelSummary(models.ResNet(version='resnet50').create()).summary()"
   ]
  },
  {
   "cell_type": "markdown",
   "metadata": {},
   "source": [
    "### [ResNet101](http://ethereon.github.io/netscope/#/gist/b21e2aae116dc1ac7b50)"
   ]
  },
  {
   "cell_type": "code",
   "execution_count": 16,
   "metadata": {},
   "outputs": [
    {
     "name": "stdout",
     "output_type": "stream",
     "text": [
      "ResNet101\n",
      "                      name    gflops   nparams   params_mb\n",
      "0               conv1/conv  0.118014      9408    0.035889\n",
      "1      res1a/branch2a/conv  0.012845      4096    0.015625\n",
      "2      res1a/branch2b/conv  0.115606     36864    0.140625\n",
      "3       res1a/branch1/conv  0.051380     16384    0.062500\n",
      "4      res1a/branch2c/conv  0.051380     16384    0.062500\n",
      "5     res1b1/branch2a/conv  0.051380     16384    0.062500\n",
      "6     res1b1/branch2b/conv  0.115606     36864    0.140625\n",
      "7     res1b1/branch2c/conv  0.051380     16384    0.062500\n",
      "8     res1b2/branch2a/conv  0.051380     16384    0.062500\n",
      "9     res1b2/branch2b/conv  0.115606     36864    0.140625\n",
      "10    res1b2/branch2c/conv  0.051380     16384    0.062500\n",
      "11     res2a/branch2a/conv  0.102760     32768    0.125000\n",
      "12     res2a/branch2b/conv  0.115606    147456    0.562500\n",
      "13      res2a/branch1/conv  0.102760    131072    0.500000\n",
      "14     res2a/branch2c/conv  0.051380     65536    0.250000\n",
      "15    res2b1/branch2a/conv  0.051380     65536    0.250000\n",
      "16    res2b1/branch2b/conv  0.115606    147456    0.562500\n",
      "17    res2b1/branch2c/conv  0.051380     65536    0.250000\n",
      "18    res2b2/branch2a/conv  0.051380     65536    0.250000\n",
      "19    res2b2/branch2b/conv  0.115606    147456    0.562500\n",
      "20    res2b2/branch2c/conv  0.051380     65536    0.250000\n",
      "21    res2b3/branch2a/conv  0.051380     65536    0.250000\n",
      "22    res2b3/branch2b/conv  0.115606    147456    0.562500\n",
      "23    res2b3/branch2c/conv  0.051380     65536    0.250000\n",
      "24     res3a/branch2a/conv  0.102760    131072    0.500000\n",
      "25     res3a/branch2b/conv  0.115606    589824    2.250000\n",
      "26      res3a/branch1/conv  0.102760    524288    2.000000\n",
      "27     res3a/branch2c/conv  0.051380    262144    1.000000\n",
      "28    res3b1/branch2a/conv  0.051380    262144    1.000000\n",
      "29    res3b1/branch2b/conv  0.115606    589824    2.250000\n",
      "..                     ...       ...       ...         ...\n",
      "76   res3b17/branch2a/conv  0.051380    262144    1.000000\n",
      "77   res3b17/branch2b/conv  0.115606    589824    2.250000\n",
      "78   res3b17/branch2c/conv  0.051380    262144    1.000000\n",
      "79   res3b18/branch2a/conv  0.051380    262144    1.000000\n",
      "80   res3b18/branch2b/conv  0.115606    589824    2.250000\n",
      "81   res3b18/branch2c/conv  0.051380    262144    1.000000\n",
      "82   res3b19/branch2a/conv  0.051380    262144    1.000000\n",
      "83   res3b19/branch2b/conv  0.115606    589824    2.250000\n",
      "84   res3b19/branch2c/conv  0.051380    262144    1.000000\n",
      "85   res3b20/branch2a/conv  0.051380    262144    1.000000\n",
      "86   res3b20/branch2b/conv  0.115606    589824    2.250000\n",
      "87   res3b20/branch2c/conv  0.051380    262144    1.000000\n",
      "88   res3b21/branch2a/conv  0.051380    262144    1.000000\n",
      "89   res3b21/branch2b/conv  0.115606    589824    2.250000\n",
      "90   res3b21/branch2c/conv  0.051380    262144    1.000000\n",
      "91   res3b22/branch2a/conv  0.051380    262144    1.000000\n",
      "92   res3b22/branch2b/conv  0.115606    589824    2.250000\n",
      "93   res3b22/branch2c/conv  0.051380    262144    1.000000\n",
      "94     res4a/branch2a/conv  0.102760    524288    2.000000\n",
      "95     res4a/branch2b/conv  0.115606   2359296    9.000000\n",
      "96      res4a/branch1/conv  0.102760   2097152    8.000000\n",
      "97     res4a/branch2c/conv  0.051380   1048576    4.000000\n",
      "98    res4b1/branch2a/conv  0.051380   1048576    4.000000\n",
      "99    res4b1/branch2b/conv  0.115606   2359296    9.000000\n",
      "100   res4b1/branch2c/conv  0.051380   1048576    4.000000\n",
      "101   res4b2/branch2a/conv  0.051380   1048576    4.000000\n",
      "102   res4b2/branch2b/conv  0.115606   2359296    9.000000\n",
      "103   res4b2/branch2c/conv  0.051380   1048576    4.000000\n",
      "104                 output  0.002048   2049000    7.816315\n",
      "105                  TOTAL  7.801405  44601832  169.539703\n",
      "\n",
      "[106 rows x 4 columns]\n"
     ]
    }
   ],
   "source": [
    "ModelSummary(models.ResNet(version='resnet101').create()).summary()"
   ]
  },
  {
   "cell_type": "markdown",
   "metadata": {},
   "source": [
    "### [ResNet152](http://ethereon.github.io/netscope/#/gist/d38f3e6091952b45198b)"
   ]
  },
  {
   "cell_type": "code",
   "execution_count": 17,
   "metadata": {},
   "outputs": [
    {
     "name": "stdout",
     "output_type": "stream",
     "text": [
      "ResNet152\n",
      "                      name     gflops   nparams   params_mb\n",
      "0               conv1/conv   0.118014      9408    0.035889\n",
      "1      res1a/branch2a/conv   0.012845      4096    0.015625\n",
      "2      res1a/branch2b/conv   0.115606     36864    0.140625\n",
      "3       res1a/branch1/conv   0.051380     16384    0.062500\n",
      "4      res1a/branch2c/conv   0.051380     16384    0.062500\n",
      "5     res1b1/branch2a/conv   0.051380     16384    0.062500\n",
      "6     res1b1/branch2b/conv   0.115606     36864    0.140625\n",
      "7     res1b1/branch2c/conv   0.051380     16384    0.062500\n",
      "8     res1b2/branch2a/conv   0.051380     16384    0.062500\n",
      "9     res1b2/branch2b/conv   0.115606     36864    0.140625\n",
      "10    res1b2/branch2c/conv   0.051380     16384    0.062500\n",
      "11     res2a/branch2a/conv   0.102760     32768    0.125000\n",
      "12     res2a/branch2b/conv   0.115606    147456    0.562500\n",
      "13      res2a/branch1/conv   0.102760    131072    0.500000\n",
      "14     res2a/branch2c/conv   0.051380     65536    0.250000\n",
      "15    res2b1/branch2a/conv   0.051380     65536    0.250000\n",
      "16    res2b1/branch2b/conv   0.115606    147456    0.562500\n",
      "17    res2b1/branch2c/conv   0.051380     65536    0.250000\n",
      "18    res2b2/branch2a/conv   0.051380     65536    0.250000\n",
      "19    res2b2/branch2b/conv   0.115606    147456    0.562500\n",
      "20    res2b2/branch2c/conv   0.051380     65536    0.250000\n",
      "21    res2b3/branch2a/conv   0.051380     65536    0.250000\n",
      "22    res2b3/branch2b/conv   0.115606    147456    0.562500\n",
      "23    res2b3/branch2c/conv   0.051380     65536    0.250000\n",
      "24    res2b4/branch2a/conv   0.051380     65536    0.250000\n",
      "25    res2b4/branch2b/conv   0.115606    147456    0.562500\n",
      "26    res2b4/branch2c/conv   0.051380     65536    0.250000\n",
      "27    res2b5/branch2a/conv   0.051380     65536    0.250000\n",
      "28    res2b5/branch2b/conv   0.115606    147456    0.562500\n",
      "29    res2b5/branch2c/conv   0.051380     65536    0.250000\n",
      "..                     ...        ...       ...         ...\n",
      "127  res3b30/branch2a/conv   0.051380    262144    1.000000\n",
      "128  res3b30/branch2b/conv   0.115606    589824    2.250000\n",
      "129  res3b30/branch2c/conv   0.051380    262144    1.000000\n",
      "130  res3b31/branch2a/conv   0.051380    262144    1.000000\n",
      "131  res3b31/branch2b/conv   0.115606    589824    2.250000\n",
      "132  res3b31/branch2c/conv   0.051380    262144    1.000000\n",
      "133  res3b32/branch2a/conv   0.051380    262144    1.000000\n",
      "134  res3b32/branch2b/conv   0.115606    589824    2.250000\n",
      "135  res3b32/branch2c/conv   0.051380    262144    1.000000\n",
      "136  res3b33/branch2a/conv   0.051380    262144    1.000000\n",
      "137  res3b33/branch2b/conv   0.115606    589824    2.250000\n",
      "138  res3b33/branch2c/conv   0.051380    262144    1.000000\n",
      "139  res3b34/branch2a/conv   0.051380    262144    1.000000\n",
      "140  res3b34/branch2b/conv   0.115606    589824    2.250000\n",
      "141  res3b34/branch2c/conv   0.051380    262144    1.000000\n",
      "142  res3b35/branch2a/conv   0.051380    262144    1.000000\n",
      "143  res3b35/branch2b/conv   0.115606    589824    2.250000\n",
      "144  res3b35/branch2c/conv   0.051380    262144    1.000000\n",
      "145    res4a/branch2a/conv   0.102760    524288    2.000000\n",
      "146    res4a/branch2b/conv   0.115606   2359296    9.000000\n",
      "147     res4a/branch1/conv   0.102760   2097152    8.000000\n",
      "148    res4a/branch2c/conv   0.051380   1048576    4.000000\n",
      "149   res4b1/branch2a/conv   0.051380   1048576    4.000000\n",
      "150   res4b1/branch2b/conv   0.115606   2359296    9.000000\n",
      "151   res4b1/branch2c/conv   0.051380   1048576    4.000000\n",
      "152   res4b2/branch2a/conv   0.051380   1048576    4.000000\n",
      "153   res4b2/branch2b/conv   0.115606   2359296    9.000000\n",
      "154   res4b2/branch2c/conv   0.051380   1048576    4.000000\n",
      "155                 output   0.002048   2049000    7.816315\n",
      "156                  TOTAL  11.513627  60268520  229.039703\n",
      "\n",
      "[157 rows x 4 columns]\n"
     ]
    }
   ],
   "source": [
    "ModelSummary(models.ResNet(version='resnet152').create()).summary()"
   ]
  },
  {
   "cell_type": "markdown",
   "metadata": {},
   "source": [
    "### [ResNet200](http://ethereon.github.io/netscope/#/gist/38a20d8dd1a4725d12659c8e313ab2c7)"
   ]
  },
  {
   "cell_type": "code",
   "execution_count": 18,
   "metadata": {},
   "outputs": [
    {
     "name": "stdout",
     "output_type": "stream",
     "text": [
      "ResNet200\n",
      "                      name     gflops   nparams   params_mb\n",
      "0               conv1/conv   0.118014      9408    0.035889\n",
      "1      res1a/branch2a/conv   0.012845      4096    0.015625\n",
      "2      res1a/branch2b/conv   0.115606     36864    0.140625\n",
      "3       res1a/branch1/conv   0.051380     16384    0.062500\n",
      "4      res1a/branch2c/conv   0.051380     16384    0.062500\n",
      "5     res1b1/branch2a/conv   0.051380     16384    0.062500\n",
      "6     res1b1/branch2b/conv   0.115606     36864    0.140625\n",
      "7     res1b1/branch2c/conv   0.051380     16384    0.062500\n",
      "8     res1b2/branch2a/conv   0.051380     16384    0.062500\n",
      "9     res1b2/branch2b/conv   0.115606     36864    0.140625\n",
      "10    res1b2/branch2c/conv   0.051380     16384    0.062500\n",
      "11     res2a/branch2a/conv   0.102760     32768    0.125000\n",
      "12     res2a/branch2b/conv   0.115606    147456    0.562500\n",
      "13      res2a/branch1/conv   0.102760    131072    0.500000\n",
      "14     res2a/branch2c/conv   0.051380     65536    0.250000\n",
      "15    res2b1/branch2a/conv   0.051380     65536    0.250000\n",
      "16    res2b1/branch2b/conv   0.115606    147456    0.562500\n",
      "17    res2b1/branch2c/conv   0.051380     65536    0.250000\n",
      "18    res2b2/branch2a/conv   0.051380     65536    0.250000\n",
      "19    res2b2/branch2b/conv   0.115606    147456    0.562500\n",
      "20    res2b2/branch2c/conv   0.051380     65536    0.250000\n",
      "21    res2b3/branch2a/conv   0.051380     65536    0.250000\n",
      "22    res2b3/branch2b/conv   0.115606    147456    0.562500\n",
      "23    res2b3/branch2c/conv   0.051380     65536    0.250000\n",
      "24    res2b4/branch2a/conv   0.051380     65536    0.250000\n",
      "25    res2b4/branch2b/conv   0.115606    147456    0.562500\n",
      "26    res2b4/branch2c/conv   0.051380     65536    0.250000\n",
      "27    res2b5/branch2a/conv   0.051380     65536    0.250000\n",
      "28    res2b5/branch2b/conv   0.115606    147456    0.562500\n",
      "29    res2b5/branch2c/conv   0.051380     65536    0.250000\n",
      "..                     ...        ...       ...         ...\n",
      "175  res3b30/branch2a/conv   0.051380    262144    1.000000\n",
      "176  res3b30/branch2b/conv   0.115606    589824    2.250000\n",
      "177  res3b30/branch2c/conv   0.051380    262144    1.000000\n",
      "178  res3b31/branch2a/conv   0.051380    262144    1.000000\n",
      "179  res3b31/branch2b/conv   0.115606    589824    2.250000\n",
      "180  res3b31/branch2c/conv   0.051380    262144    1.000000\n",
      "181  res3b32/branch2a/conv   0.051380    262144    1.000000\n",
      "182  res3b32/branch2b/conv   0.115606    589824    2.250000\n",
      "183  res3b32/branch2c/conv   0.051380    262144    1.000000\n",
      "184  res3b33/branch2a/conv   0.051380    262144    1.000000\n",
      "185  res3b33/branch2b/conv   0.115606    589824    2.250000\n",
      "186  res3b33/branch2c/conv   0.051380    262144    1.000000\n",
      "187  res3b34/branch2a/conv   0.051380    262144    1.000000\n",
      "188  res3b34/branch2b/conv   0.115606    589824    2.250000\n",
      "189  res3b34/branch2c/conv   0.051380    262144    1.000000\n",
      "190  res3b35/branch2a/conv   0.051380    262144    1.000000\n",
      "191  res3b35/branch2b/conv   0.115606    589824    2.250000\n",
      "192  res3b35/branch2c/conv   0.051380    262144    1.000000\n",
      "193    res4a/branch2a/conv   0.102760    524288    2.000000\n",
      "194    res4a/branch2b/conv   0.115606   2359296    9.000000\n",
      "195     res4a/branch1/conv   0.102760   2097152    8.000000\n",
      "196    res4a/branch2c/conv   0.051380   1048576    4.000000\n",
      "197   res4b1/branch2a/conv   0.051380   1048576    4.000000\n",
      "198   res4b1/branch2b/conv   0.115606   2359296    9.000000\n",
      "199   res4b1/branch2c/conv   0.051380   1048576    4.000000\n",
      "200   res4b2/branch2a/conv   0.051380   1048576    4.000000\n",
      "201   res4b2/branch2b/conv   0.115606   2359296    9.000000\n",
      "202   res4b2/branch2c/conv   0.051380   1048576    4.000000\n",
      "203                 output   0.002048   2049000    7.816315\n",
      "204                  TOTAL  15.007482  64761832  246.039703\n",
      "\n",
      "[205 rows x 4 columns]\n"
     ]
    }
   ],
   "source": [
    "ModelSummary(models.ResNet(version='resnet200').create()).summary()"
   ]
  },
  {
   "cell_type": "markdown",
   "metadata": {},
   "source": [
    "### [ResNet269](http://ethereon.github.io/netscope/#/gist/fbf7c67565523a9ac2c349aa89c5e78d)"
   ]
  },
  {
   "cell_type": "code",
   "execution_count": 19,
   "metadata": {},
   "outputs": [
    {
     "name": "stdout",
     "output_type": "stream",
     "text": [
      "ResNet269\n",
      "                      name     gflops    nparams   params_mb\n",
      "0               conv1/conv   0.118014       9408    0.035889\n",
      "1      res1a/branch2a/conv   0.012845       4096    0.015625\n",
      "2      res1a/branch2b/conv   0.115606      36864    0.140625\n",
      "3       res1a/branch1/conv   0.051380      16384    0.062500\n",
      "4      res1a/branch2c/conv   0.051380      16384    0.062500\n",
      "5     res1b1/branch2a/conv   0.051380      16384    0.062500\n",
      "6     res1b1/branch2b/conv   0.115606      36864    0.140625\n",
      "7     res1b1/branch2c/conv   0.051380      16384    0.062500\n",
      "8     res1b2/branch2a/conv   0.051380      16384    0.062500\n",
      "9     res1b2/branch2b/conv   0.115606      36864    0.140625\n",
      "10    res1b2/branch2c/conv   0.051380      16384    0.062500\n",
      "11     res2a/branch2a/conv   0.102760      32768    0.125000\n",
      "12     res2a/branch2b/conv   0.115606     147456    0.562500\n",
      "13      res2a/branch1/conv   0.102760     131072    0.500000\n",
      "14     res2a/branch2c/conv   0.051380      65536    0.250000\n",
      "15    res2b1/branch2a/conv   0.051380      65536    0.250000\n",
      "16    res2b1/branch2b/conv   0.115606     147456    0.562500\n",
      "17    res2b1/branch2c/conv   0.051380      65536    0.250000\n",
      "18    res2b2/branch2a/conv   0.051380      65536    0.250000\n",
      "19    res2b2/branch2b/conv   0.115606     147456    0.562500\n",
      "20    res2b2/branch2c/conv   0.051380      65536    0.250000\n",
      "21    res2b3/branch2a/conv   0.051380      65536    0.250000\n",
      "22    res2b3/branch2b/conv   0.115606     147456    0.562500\n",
      "23    res2b3/branch2c/conv   0.051380      65536    0.250000\n",
      "24    res2b4/branch2a/conv   0.051380      65536    0.250000\n",
      "25    res2b4/branch2b/conv   0.115606     147456    0.562500\n",
      "26    res2b4/branch2c/conv   0.051380      65536    0.250000\n",
      "27    res2b5/branch2a/conv   0.051380      65536    0.250000\n",
      "28    res2b5/branch2b/conv   0.115606     147456    0.562500\n",
      "29    res2b5/branch2c/conv   0.051380      65536    0.250000\n",
      "..                     ...        ...        ...         ...\n",
      "244  res3b47/branch2a/conv   0.051380     262144    1.000000\n",
      "245  res3b47/branch2b/conv   0.115606     589824    2.250000\n",
      "246  res3b47/branch2c/conv   0.051380     262144    1.000000\n",
      "247    res4a/branch2a/conv   0.102760     524288    2.000000\n",
      "248    res4a/branch2b/conv   0.115606    2359296    9.000000\n",
      "249     res4a/branch1/conv   0.102760    2097152    8.000000\n",
      "250    res4a/branch2c/conv   0.051380    1048576    4.000000\n",
      "251   res4b1/branch2a/conv   0.051380    1048576    4.000000\n",
      "252   res4b1/branch2b/conv   0.115606    2359296    9.000000\n",
      "253   res4b1/branch2c/conv   0.051380    1048576    4.000000\n",
      "254   res4b2/branch2a/conv   0.051380    1048576    4.000000\n",
      "255   res4b2/branch2b/conv   0.115606    2359296    9.000000\n",
      "256   res4b2/branch2c/conv   0.051380    1048576    4.000000\n",
      "257   res4b3/branch2a/conv   0.051380    1048576    4.000000\n",
      "258   res4b3/branch2b/conv   0.115606    2359296    9.000000\n",
      "259   res4b3/branch2c/conv   0.051380    1048576    4.000000\n",
      "260   res4b4/branch2a/conv   0.051380    1048576    4.000000\n",
      "261   res4b4/branch2b/conv   0.115606    2359296    9.000000\n",
      "262   res4b4/branch2c/conv   0.051380    1048576    4.000000\n",
      "263   res4b5/branch2a/conv   0.051380    1048576    4.000000\n",
      "264   res4b5/branch2b/conv   0.115606    2359296    9.000000\n",
      "265   res4b5/branch2c/conv   0.051380    1048576    4.000000\n",
      "266   res4b6/branch2a/conv   0.051380    1048576    4.000000\n",
      "267   res4b6/branch2b/conv   0.115606    2359296    9.000000\n",
      "268   res4b6/branch2c/conv   0.051380    1048576    4.000000\n",
      "269   res4b7/branch2a/conv   0.051380    1048576    4.000000\n",
      "270   res4b7/branch2b/conv   0.115606    2359296    9.000000\n",
      "271   res4b7/branch2c/conv   0.051380    1048576    4.000000\n",
      "272                 output   0.002048    2049000    7.816315\n",
      "273                  TOTAL  20.029899  102199784  388.414703\n",
      "\n",
      "[274 rows x 4 columns]\n"
     ]
    }
   ],
   "source": [
    "ModelSummary(models.ResNet(version='resnet269').create()).summary()"
   ]
  }
 ],
 "metadata": {
  "kernelspec": {
   "display_name": "Python 3",
   "language": "python",
   "name": "python3"
  },
  "language_info": {
   "codemirror_mode": {
    "name": "ipython",
    "version": 3
   },
   "file_extension": ".py",
   "mimetype": "text/x-python",
   "name": "python",
   "nbconvert_exporter": "python",
   "pygments_lexer": "ipython3",
   "version": "3.5.2"
  }
 },
 "nbformat": 4,
 "nbformat_minor": 2
}
