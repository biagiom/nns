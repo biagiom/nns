{
 "cells": [
  {
   "cell_type": "markdown",
   "metadata": {},
   "source": [
    "# Summary of a NN model from `SMD anomaly detection` paper.\n",
    "\n",
    "Implementation is [here](https://github.com/DongYuls/SMD_Anomaly_Detection) and paper is [here](https://www.mdpi.com/1424-8220/18/5/1308).  \n",
    "The problem being solved is the anomaly detection based on environment noise. In particular, authors uses sound produced by Surface-Mounted Device machine (SMD).  \n",
    "Authors propose the following approach. It's hard to work with sound in time domain. But going to a frequency domain may be a benefit. Thus, input to an anomaly detection model is a spectrogram, or in other words, an image. Authors apply STFT (short-time Fourier transform) with window size 2048 and stride equal to 512 points.  \n",
    "> Sound time series -> STFT -> Spectrogram -> Image -> CNN-based autoencoder.\n",
    "\n",
    "**Model summary**:  \n",
    "(batch size = 1, FLOPs = approximate number of Multiply-Add operations)\n",
    "1. Forward:   7.32 gFLOPs  \n",
    "2. Backward: 14.64 gFLOPs\n",
    "3. Training: 21.96 gFLOPs\n",
    "4. Number of parameters: 4,812,288 (~ 18.3 MB)\n",
    "\n",
    "The reason for this complexity is deep CNN autoencoder (some layers are not shown):\n",
    "![SMD anomaly detection model (some layers are not shown)](https://www.ncbi.nlm.nih.gov/pmc/articles/PMC5982511/bin/sensors-18-01308-g005.jpg)"
   ]
  },
  {
   "cell_type": "code",
   "execution_count": 2,
   "metadata": {},
   "outputs": [],
   "source": [
    "import os, sys\n",
    "sys.path.insert(0, os.path.join(os.path.dirname(os.path.abspath('')), 'python'))\n",
    "from nns.nns import ModelSummary\n",
    "from nns.model import Model\n",
    "from tensorflow.python.keras import models\n",
    "from tensorflow.python.keras.layers import Conv2D, Conv2DTranspose, BatchNormalization, Activation"
   ]
  },
  {
   "cell_type": "code",
   "execution_count": 5,
   "metadata": {},
   "outputs": [],
   "source": [
    "class SMDAnomalyDetection(Model):\n",
    "    \"\"\" \n",
    "    https://github.com/DongYuls/SMD_Anomaly_Detection/blob/master/model.py\n",
    "    TODO: refactor conv_block and conv_transpose_block.\n",
    "    \"\"\"\n",
    "    def __init__(self):\n",
    "        super().__init__('SMDAnomalyDetection')\n",
    "\n",
    "    @staticmethod\n",
    "    def conv_block(input_, num_filters, kernel, strides=(1, 1), padding='same', activation='relu', name=None, bn=True):\n",
    "        x = Conv2D(num_filters, kernel, strides=strides, padding=padding, use_bias=False, name=name + '/conv')(input_)\n",
    "        if bn:\n",
    "            x = BatchNormalization(scale=False, name=name + '/bn')(x)\n",
    "        if activation is not None:\n",
    "            x = Activation(activation=activation, name=name + '/' + activation)(x)\n",
    "        return x\n",
    "\n",
    "    @staticmethod\n",
    "    def conv_transpose_block(input_, num_filters, kernel, strides=(1, 1), padding='same', activation='relu', name=None, bn=True):\n",
    "        x = Conv2DTranspose(num_filters, kernel, strides=strides, padding=padding, use_bias=False, name=name + '/convt')(input_)\n",
    "        if bn:\n",
    "            x = BatchNormalization(scale=False, name=name + '/bn')(x)\n",
    "        if activation is not None:\n",
    "            x = Activation(activation=activation, name=name + '/' + activation)(x)\n",
    "        return x\n",
    "\n",
    "    def create(self):\n",
    "        input_ = Model.Input((1024, 32, 1))\n",
    "        x = input_\n",
    "        print(\"Input shape: {}\".format(str(x.shape)))\n",
    "        # Encoder\n",
    "        ConvBlock = SMDAnomalyDetection.conv_block\n",
    "        for idx, num_channels in enumerate([64, 64, 96, 96, 128]):\n",
    "            x = ConvBlock(x, num_channels, (5, 5), (2, 1), name='enc/conv0{}'.format(idx+1))\n",
    "        for idx, num_channels in enumerate([128, 160, 160]):\n",
    "            x = ConvBlock(x, num_channels, (4, 4), (2, 2), name='enc/conv0{}'.format(idx+6))\n",
    "        x = ConvBlock(x, 192, 3, (2, 2), name='enc/conv09')\n",
    "        x = ConvBlock(x, 192, 3, (2, 2), name='enc/conv10', activation=None, bn=False)\n",
    "        print(\"Code shape: {}\".format(str(x.shape)))\n",
    "\n",
    "        # Decoder\n",
    "        ConvTBlock = SMDAnomalyDetection.conv_transpose_block\n",
    "        x = ConvTBlock(x, 192, (3, 3), (2, 2), name='dec/convt01')\n",
    "        x = ConvTBlock(x, 160, (3, 3), (2, 2), name='dec/convt02')\n",
    "        for idx, num_channels in enumerate([160, 128, 128]):\n",
    "            x = ConvTBlock(x, num_channels, (4, 4), (2, 2), name='dec/convt0{}'.format(idx+3))\n",
    "        for idx, num_channels in enumerate([96, 96, 64, 64]):\n",
    "            x = ConvTBlock(x, num_channels, (5, 5), (2, 1), name='dec/convt0{}'.format(idx+6))\n",
    "        x = ConvTBlock(x, 1, (5, 5), (2, 1), name='dec/conv10'.format(idx+6), bn=False, activation=None)\n",
    "        print(\"Output shape: {}\".format(str(x.shape)))\n",
    "\n",
    "        return models.Model(input_, x, name=self.name)"
   ]
  },
  {
   "cell_type": "code",
   "execution_count": 6,
   "metadata": {
    "scrolled": false
   },
   "outputs": [
    {
     "name": "stdout",
     "output_type": "stream",
     "text": [
      "Input shape: (None, 1024, 32, 1)\n",
      "Code shape: (None, 1, 1, 192)\n",
      "Output shape: (None, 1024, 32, 1)\n",
      "SMDAnomalyDetection\n",
      "                 name    gflops  nparams  params_mb\n",
      "0     enc/conv01/conv  0.026214     1600   0.006104\n",
      "1     enc/conv02/conv  0.838861   102400   0.390625\n",
      "2     enc/conv03/conv  0.629146   153600   0.585938\n",
      "3     enc/conv04/conv  0.471859   230400   0.878906\n",
      "4     enc/conv05/conv  0.314573   307200   1.171875\n",
      "5     enc/conv06/conv  0.067109   262144   1.000000\n",
      "6     enc/conv07/conv  0.020972   327680   1.250000\n",
      "7     enc/conv08/conv  0.006554   409600   1.562500\n",
      "8     enc/conv09/conv  0.001106   276480   1.054688\n",
      "9     enc/conv10/conv  0.000332   331776   1.265625\n",
      "10  dec/convt01/convt  0.001327   331776   1.265625\n",
      "11  dec/convt02/convt  0.004424   276480   1.054688\n",
      "12  dec/convt03/convt  0.026214   409600   1.562500\n",
      "13  dec/convt04/convt  0.083886   327680   1.250000\n",
      "14  dec/convt05/convt  0.268435   262144   1.000000\n",
      "15  dec/convt06/convt  0.629146   307200   1.171875\n",
      "16  dec/convt07/convt  0.943718   230400   0.878906\n",
      "17  dec/convt08/convt  1.258291   153600   0.585938\n",
      "18  dec/convt09/convt  1.677722   102400   0.390625\n",
      "19   dec/conv10/convt  0.052429     1600   0.006104\n",
      "20              TOTAL  7.322317  4812288  18.332520\n"
     ]
    }
   ],
   "source": [
    "#with contextlib.redirect_stderr(None):\n",
    "ModelSummary(SMDAnomalyDetection().create()).summary()"
   ]
  }
 ],
 "metadata": {
  "kernelspec": {
   "display_name": "Python 3",
   "language": "python",
   "name": "python3"
  },
  "language_info": {
   "codemirror_mode": {
    "name": "ipython",
    "version": 3
   },
   "file_extension": ".py",
   "mimetype": "text/x-python",
   "name": "python",
   "nbconvert_exporter": "python",
   "pygments_lexer": "ipython3",
   "version": "3.5.2"
  }
 },
 "nbformat": 4,
 "nbformat_minor": 2
}
