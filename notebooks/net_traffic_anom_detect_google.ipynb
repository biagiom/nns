{
 "cells": [
  {
   "cell_type": "markdown",
   "metadata": {},
   "source": [
    "# Time Series Anomaly Detecion: Detection of Anomalous Drops with Limited Features and Sparse Examples in Noisy Highly Periodic Data\n",
    "\n",
    "Paper is [here](https://static.googleusercontent.com/media/research.google.com/ru//pubs/archive/dfd834facc9460163438b94d53b36f51bb5ea952.pdf), additional information is [here](https://nau-datascience.github.io/Time-Series-Anomaly-Detection).  \n",
    "Anomaly detection in network traffic. Only two attributes - time stamp and bytes per second sampled at 5 minute interval. In total - 14 different data streams. Each data stream gets its own model.  \n",
    "Three models are considered - DNN, RNN and LSTM. Not clear how many input features they used, I will use 50 because this is what is used in examples on the page with additional info.  \n",
    "**Models**  \n",
    "1. DNN model - DNN Regressor - fully-connected model. In total, 10 layers of 200 neurons each, batch size 200, trained for 1200 steps, single linear output layer\n",
    "2. RNN model - 10 layer RNN with 75 units in hidden size, batch size 200 at 2500 steps.\n",
    "3. LSTM - 10 layer model with 70 neurons, single lienar output layer.\n",
    "\n",
    "Authors report that RNN/LSTM did not perform much better compared to DNN. Summary*:\n",
    "1. DNN regressor: 3.702000e-04 gFLOPs (forward)\n",
    "2. RNN mode: 5.347575e-03 gFLOPs (forward)\n",
    "3. LSTM model: 1.863407e-02 gFLOPs (forward)\n",
    "\n",
    "\n",
    "*FLOPs - Approximate number of multiply-add operations to perform a task."
   ]
  },
  {
   "cell_type": "code",
   "execution_count": 21,
   "metadata": {},
   "outputs": [],
   "source": [
    "import contextlib\n",
    "import os, sys\n",
    "sys.path.insert(0, os.path.join(os.path.dirname(os.path.abspath('')), 'python'))\n",
    "from nns.nns import ModelSummary\n",
    "from nns.model import Model\n",
    "from tensorflow.python.keras import models\n",
    "from tensorflow.python.keras.layers import Conv2D, Conv2DTranspose, LSTM, Activation, SimpleRNN"
   ]
  },
  {
   "cell_type": "markdown",
   "metadata": {},
   "source": [
    "### DNN Regressor"
   ]
  },
  {
   "cell_type": "code",
   "execution_count": 8,
   "metadata": {},
   "outputs": [],
   "source": [
    "class DNNModel(Model):\n",
    "    def __init__(self):\n",
    "        super().__init__('DNNModel')\n",
    "\n",
    "    def create(self):\n",
    "        model = models.Sequential([Model.Input((50,))], name=self.name)\n",
    "        for i in range(10):\n",
    "                model.add(Model.Dense(200, name='dense{}'.format(i+1)))\n",
    "        model.add(Model.Dense(1, activation=None, name='output'))\n",
    "        return model"
   ]
  },
  {
   "cell_type": "code",
   "execution_count": 9,
   "metadata": {
    "scrolled": false
   },
   "outputs": [
    {
     "name": "stdout",
     "output_type": "stream",
     "text": [
      "DNNModel\n",
      "       name        gflops  nparams  params_mb\n",
      "0    dense1  1.000000e-05    10200   0.038910\n",
      "1    dense2  4.000000e-05    40200   0.153351\n",
      "2    dense3  4.000000e-05    40200   0.153351\n",
      "3    dense4  4.000000e-05    40200   0.153351\n",
      "4    dense5  4.000000e-05    40200   0.153351\n",
      "5    dense6  4.000000e-05    40200   0.153351\n",
      "6    dense7  4.000000e-05    40200   0.153351\n",
      "7    dense8  4.000000e-05    40200   0.153351\n",
      "8    dense9  4.000000e-05    40200   0.153351\n",
      "9   dense10  4.000000e-05    40200   0.153351\n",
      "10   output  2.000000e-07      201   0.000767\n",
      "11    TOTAL  3.702000e-04   372201   1.419834\n"
     ]
    }
   ],
   "source": [
    "ModelSummary(DNNModel().create()).summary()"
   ]
  },
  {
   "cell_type": "markdown",
   "metadata": {},
   "source": [
    "### RNN model"
   ]
  },
  {
   "cell_type": "code",
   "execution_count": 14,
   "metadata": {},
   "outputs": [],
   "source": [
    "class RNNModel(Model):\n",
    "    def __init__(self):\n",
    "        super().__init__('RNNModel')\n",
    "\n",
    "    def create(self):\n",
    "        model = models.Sequential([Model.Input((50,1))], name=self.name)\n",
    "        for i in range(9):\n",
    "                model.add(SimpleRNN(75, return_sequences=True, name='rnn0{}'.format(i+1)))\n",
    "        model.add(SimpleRNN(75, return_sequences=False, name='rnn10'))\n",
    "        model.add(Model.Dense(1, activation=None, name='output'))\n",
    "        return model"
   ]
  },
  {
   "cell_type": "code",
   "execution_count": 15,
   "metadata": {},
   "outputs": [
    {
     "name": "stdout",
     "output_type": "stream",
     "text": [
      "RNNModel\n",
      "                 name        gflops  nparams  params_mb\n",
      "0   rnn01 (SimpleRNN)  2.850000e-04     5775   0.022030\n",
      "1   rnn02 (SimpleRNN)  5.625000e-04    11325   0.043201\n",
      "2   rnn03 (SimpleRNN)  5.625000e-04    11325   0.043201\n",
      "3   rnn04 (SimpleRNN)  5.625000e-04    11325   0.043201\n",
      "4   rnn05 (SimpleRNN)  5.625000e-04    11325   0.043201\n",
      "5   rnn06 (SimpleRNN)  5.625000e-04    11325   0.043201\n",
      "6   rnn07 (SimpleRNN)  5.625000e-04    11325   0.043201\n",
      "7   rnn08 (SimpleRNN)  5.625000e-04    11325   0.043201\n",
      "8   rnn09 (SimpleRNN)  5.625000e-04    11325   0.043201\n",
      "9   rnn10 (SimpleRNN)  5.625000e-04    11325   0.043201\n",
      "10             output  7.500000e-08       76   0.000290\n",
      "11              TOTAL  5.347575e-03   107776   0.411133\n"
     ]
    }
   ],
   "source": [
    "ModelSummary(RNNModel().create()).summary()"
   ]
  },
  {
   "cell_type": "markdown",
   "metadata": {},
   "source": [
    "### LSTM model"
   ]
  },
  {
   "cell_type": "code",
   "execution_count": 19,
   "metadata": {},
   "outputs": [],
   "source": [
    "class LSTMModel(Model):\n",
    "    def __init__(self):\n",
    "        super().__init__('LSTMModel')\n",
    "\n",
    "    def create(self):\n",
    "        model = models.Sequential([Model.Input((50,1))], name=self.name)\n",
    "        for i in range(9):\n",
    "                model.add(LSTM(70, return_sequences=True, name='lstm0{}'.format(i+1)))\n",
    "        model.add(LSTM(70, return_sequences=False, name='lstm10'))\n",
    "        model.add(Model.Dense(1, activation=None, name='output'))\n",
    "        return model"
   ]
  },
  {
   "cell_type": "code",
   "execution_count": 22,
   "metadata": {},
   "outputs": [
    {
     "name": "stdout",
     "output_type": "stream",
     "text": [
      "LSTMModel\n",
      "             name        gflops  nparams  params_mb\n",
      "0   lstm01 (LSTM)  9.940000e-04    20160   0.076904\n",
      "1   lstm02 (LSTM)  1.960000e-03    39480   0.150604\n",
      "2   lstm03 (LSTM)  1.960000e-03    39480   0.150604\n",
      "3   lstm04 (LSTM)  1.960000e-03    39480   0.150604\n",
      "4   lstm05 (LSTM)  1.960000e-03    39480   0.150604\n",
      "5   lstm06 (LSTM)  1.960000e-03    39480   0.150604\n",
      "6   lstm07 (LSTM)  1.960000e-03    39480   0.150604\n",
      "7   lstm08 (LSTM)  1.960000e-03    39480   0.150604\n",
      "8   lstm09 (LSTM)  1.960000e-03    39480   0.150604\n",
      "9   lstm10 (LSTM)  1.960000e-03    39480   0.150604\n",
      "10         output  7.000000e-08       71   0.000271\n",
      "11          TOTAL  1.863407e-02   375551   1.432613\n"
     ]
    }
   ],
   "source": [
    "with contextlib.redirect_stderr(None):\n",
    "    ModelSummary(LSTMModel().create()).summary()"
   ]
  }
 ],
 "metadata": {
  "kernelspec": {
   "display_name": "Python 3",
   "language": "python",
   "name": "python3"
  },
  "language_info": {
   "codemirror_mode": {
    "name": "ipython",
    "version": 3
   },
   "file_extension": ".py",
   "mimetype": "text/x-python",
   "name": "python",
   "nbconvert_exporter": "python",
   "pygments_lexer": "ipython3",
   "version": "3.5.2"
  }
 },
 "nbformat": 4,
 "nbformat_minor": 2
}
